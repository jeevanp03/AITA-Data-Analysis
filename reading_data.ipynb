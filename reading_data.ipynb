{
 "cells": [
  {
   "cell_type": "code",
   "execution_count": null,
   "id": "f9b86164",
   "metadata": {},
   "outputs": [
    {
     "name": "stdout",
     "output_type": "stream",
     "text": [
      "Collecting pyyaml\n",
      "  Downloading PyYAML-6.0.2-cp313-cp313-macosx_11_0_arm64.whl.metadata (2.1 kB)\n",
      "Downloading PyYAML-6.0.2-cp313-cp313-macosx_11_0_arm64.whl (171 kB)\n",
      "Installing collected packages: pyyaml\n",
      "Successfully installed pyyaml-6.0.2\n"
     ]
    }
   ],
   "source": [
    "# Uncomment the following lines to install the required packages\n",
    "# !pip install pandasql\n",
    "# !pip install pandas\n",
    "# !pip install pyyaml\n",
    "import sqlite3\n",
    "import pandas as pd\n",
    "import yaml"
   ]
  },
  {
   "cell_type": "code",
   "execution_count": 23,
   "id": "99b1a1db",
   "metadata": {},
   "outputs": [],
   "source": [
    "conn = sqlite3.connect(\"data/AmItheAsshole.sqlite\")"
   ]
  },
  {
   "cell_type": "code",
   "execution_count": 24,
   "id": "318a5af6",
   "metadata": {},
   "outputs": [],
   "source": [
    "cursor = conn.cursor()"
   ]
  },
  {
   "cell_type": "code",
   "execution_count": 25,
   "id": "c1405700",
   "metadata": {},
   "outputs": [
    {
     "name": "stdout",
     "output_type": "stream",
     "text": [
      "[('submission',), ('comment',)]\n"
     ]
    }
   ],
   "source": [
    "cursor.execute(\"SELECT name FROM sqlite_master WHERE type='table';\")\n",
    "tables = cursor.fetchall()\n",
    "print(tables)"
   ]
  },
  {
   "cell_type": "code",
   "execution_count": 26,
   "id": "56488d3a",
   "metadata": {},
   "outputs": [
    {
     "name": "stdout",
     "output_type": "stream",
     "text": [
      "   id submission_id                                              title  \\\n",
      "0   1        xt1ksm            AITA Monthly Open Forum Spooktober 2022   \n",
      "1   2        yiplwk  AITA for asking my friend to move a picture of...   \n",
      "2   3        yiv572  AITA for asking my husband to stay with me whi...   \n",
      "3   4        yimgaf  AITA for telling my SIL to stop talking about ...   \n",
      "4   5        yin7pf  AITA for wanting to meet my \"daughter\" after g...   \n",
      "\n",
      "                                            selftext  created_utc  \\\n",
      "0  #Keep things civil. Rules still apply.\\n\\n##Th...   1664646465   \n",
      "1  \\n\\nMe (M32) and my wife, Dahlia (F28) lost ou...   1667251988   \n",
      "2  Throwaway my family knows my account. I'll get...   1667266450   \n",
      "3  My (37M) wife (37F) is pregnant with our first...   1667245059   \n",
      "4  Long story short: in my (40f) twenties I had a...   1667246573   \n",
      "\n",
      "                                           permalink  score  \n",
      "0  /r/AmItheAsshole/comments/xt1ksm/aita_monthly_...    592  \n",
      "1  /r/AmItheAsshole/comments/yiplwk/aita_for_aski...  16582  \n",
      "2  /r/AmItheAsshole/comments/yiv572/aita_for_aski...   4079  \n",
      "3  /r/AmItheAsshole/comments/yimgaf/aita_for_tell...   9728  \n",
      "4  /r/AmItheAsshole/comments/yin7pf/aita_for_want...   6889  \n"
     ]
    }
   ],
   "source": [
    "sub_df = pd.read_sql_query(\"SELECT * FROM submission\", conn)\n",
    "print(sub_df.head())"
   ]
  },
  {
   "cell_type": "code",
   "execution_count": 27,
   "id": "aad5f128",
   "metadata": {},
   "outputs": [
    {
     "name": "stdout",
     "output_type": "stream",
     "text": [
      "   id submission_id                                            message  \\\n",
      "0   1        xt1ksm  Do people with two digits to their age really ...   \n",
      "1   2        xt1ksm  Lots of posts in the last 3-4 days about rando...   \n",
      "2   3        xt1ksm  Sometimes I think people are making up stories...   \n",
      "3   4        xt1ksm  Saw it on FB but it's hilarious how threads wi...   \n",
      "4   5        xt1ksm  The OP: My MIL can be a bit petty sometimes\\n\\...   \n",
      "\n",
      "  comment_id  parent_id  created_utc  score  \n",
      "0    irs5v1y  t3_xt1ksm   1665421334     59  \n",
      "1    isdxgsq  t3_xt1ksm   1665813660     55  \n",
      "2    iryatl4  t3_xt1ksm   1665529128     40  \n",
      "3    is3i5i9  t3_xt1ksm   1665622760     33  \n",
      "4    ituw9ym  t3_xt1ksm   1666793880     32  \n"
     ]
    }
   ],
   "source": [
    "com_df = pd.read_sql_query(\"SELECT * FROM comment\", conn)\n",
    "print(com_df.head())"
   ]
  },
  {
   "cell_type": "code",
   "execution_count": 28,
   "id": "48bbdc0a",
   "metadata": {},
   "outputs": [],
   "source": [
    "sub_df.to_csv(\"data/submission.csv\", index=False)\n",
    "com_df.to_csv(\"data/comment.csv\", index=False)"
   ]
  },
  {
   "cell_type": "code",
   "execution_count": 29,
   "id": "36a1bae5",
   "metadata": {},
   "outputs": [],
   "source": [
    "sub_dict = sub_df.to_dict(orient='records')\n",
    "com_dict = com_df.to_dict(orient='records')"
   ]
  },
  {
   "cell_type": "code",
   "execution_count": 32,
   "id": "86ef6a14",
   "metadata": {},
   "outputs": [],
   "source": [
    "def save_to_yaml(data, filename):\n",
    "    with open(filename, 'w') as file:\n",
    "        yaml.dump(data, file, default_flow_style=False)"
   ]
  },
  {
   "cell_type": "code",
   "execution_count": 33,
   "id": "5cfddd9b",
   "metadata": {},
   "outputs": [],
   "source": [
    "save_to_yaml(sub_dict, 'Data/submission.yaml')\n",
    "save_to_yaml(com_dict, 'Data/comment.yaml')"
   ]
  },
  {
   "cell_type": "code",
   "execution_count": 31,
   "id": "66d32e96",
   "metadata": {},
   "outputs": [],
   "source": [
    "conn.close()"
   ]
  }
 ],
 "metadata": {
  "kernelspec": {
   "display_name": ".venv",
   "language": "python",
   "name": "python3"
  },
  "language_info": {
   "codemirror_mode": {
    "name": "ipython",
    "version": 3
   },
   "file_extension": ".py",
   "mimetype": "text/x-python",
   "name": "python",
   "nbconvert_exporter": "python",
   "pygments_lexer": "ipython3",
   "version": "3.13.2"
  }
 },
 "nbformat": 4,
 "nbformat_minor": 5
}
